{
 "cells": [
  {
   "cell_type": "code",
   "execution_count": 1,
   "metadata": {},
   "outputs": [
    {
     "name": "stdout",
     "output_type": "stream",
     "text": [
      "Requirement already satisfied: tweepy in c:\\users\\qinke\\anaconda3\\lib\\site-packages (3.6.0)\n",
      "Requirement already satisfied: PySocks>=1.5.7 in c:\\users\\qinke\\anaconda3\\lib\\site-packages (from tweepy) (1.6.8)\n",
      "Requirement already satisfied: requests>=2.11.1 in c:\\users\\qinke\\anaconda3\\lib\\site-packages (from tweepy) (2.18.4)\n",
      "Requirement already satisfied: requests-oauthlib>=0.7.0 in c:\\users\\qinke\\anaconda3\\lib\\site-packages (from tweepy) (1.0.0)\n",
      "Requirement already satisfied: six>=1.10.0 in c:\\users\\qinke\\anaconda3\\lib\\site-packages (from tweepy) (1.11.0)\n",
      "Requirement already satisfied: chardet<3.1.0,>=3.0.2 in c:\\users\\qinke\\anaconda3\\lib\\site-packages (from requests>=2.11.1->tweepy) (3.0.4)\n",
      "Requirement already satisfied: idna<2.7,>=2.5 in c:\\users\\qinke\\anaconda3\\lib\\site-packages (from requests>=2.11.1->tweepy) (2.6)\n",
      "Requirement already satisfied: urllib3<1.23,>=1.21.1 in c:\\users\\qinke\\anaconda3\\lib\\site-packages (from requests>=2.11.1->tweepy) (1.22)\n",
      "Requirement already satisfied: certifi>=2017.4.17 in c:\\users\\qinke\\anaconda3\\lib\\site-packages (from requests>=2.11.1->tweepy) (2018.4.16)\n",
      "Requirement already satisfied: oauthlib>=0.6.2 in c:\\users\\qinke\\anaconda3\\lib\\site-packages (from requests-oauthlib>=0.7.0->tweepy) (2.1.0)\n"
     ]
    }
   ],
   "source": [
    "! pip install tweepy"
   ]
  },
  {
   "cell_type": "code",
   "execution_count": 2,
   "metadata": {},
   "outputs": [],
   "source": [
    "import tweepy\n",
    "import pandas as pd\n",
    "import numpy as np\n",
    "from IPython.display import display\n",
    "import matplotlib.pyplot as plt\n",
    "import seaborn as sns\n",
    "%matplotlib inline"
   ]
  },
  {
   "cell_type": "code",
   "execution_count": 3,
   "metadata": {},
   "outputs": [],
   "source": [
    "CONSUMER_KEY='cvbC25nprsnlpu9T7qwl3I4o4'\n",
    "CONSUMER_SECRET='TxOl82go2RlI2z7OeBZIFOEjrcwNlAbpDNcX4x6M221OOWMM5m'\n",
    "ACCESS_TOKEN='203452913-oHL2bwQuKJK3RjBwb3MLZX8I1jaK8x22gv507lTC'\n",
    "ACCESS_SECRET='6VWoRzBpmz6JfN3T8MkYeUT2aFgo8GQwOQDIgdA8rClxe'"
   ]
  },
  {
   "cell_type": "code",
   "execution_count": 4,
   "metadata": {},
   "outputs": [
    {
     "name": "stdout",
     "output_type": "stream",
     "text": [
      "Requirement already satisfied: credentials in c:\\users\\qinke\\anaconda3\\lib\\site-packages (1.1)\n"
     ]
    }
   ],
   "source": [
    "! pip install credentials\n",
    "from credentials import *"
   ]
  },
  {
   "cell_type": "code",
   "execution_count": 5,
   "metadata": {},
   "outputs": [],
   "source": [
    "def twitter_setup():\n",
    "    auth = tweepy.OAuthHandler(CONSUMER_KEY, CONSUMER_SECRET)\n",
    "    auth.set_access_token(ACCESS_TOKEN, ACCESS_SECRET)\n",
    "    api = tweepy.API(auth)\n",
    "    return api"
   ]
  },
  {
   "cell_type": "code",
   "execution_count": 6,
   "metadata": {},
   "outputs": [
    {
     "name": "stdout",
     "output_type": "stream",
     "text": [
      "Number of tweets extracted: 200.\n",
      "\n",
      "5 recent tweets:\n",
      "\n",
      "These California fires are expanding very, very quickly (in some cases 80-100 acres a minute). If people don’t evac… https://t.co/5WUnd01wou\n",
      "\n",
      "More than 4,000 are fighting the Camp and Woolsey Fires in California that have burned over 170,000 acres. Our hear… https://t.co/bHG71OSXsq\n",
      "\n",
      "Trying to STEAL two big elections in Florida! We are watching closely!\n",
      "\n",
      "Had very productive meetings and calls for our Country today. Meeting tonight with World Leaders!\n",
      "\n",
      "Happy 243rd Birthday to our GREAT U.S. Marine Corps🇺🇸 https://t.co/1cPtoMfmxP\n",
      "\n"
     ]
    }
   ],
   "source": [
    "# We create an extractor object:\n",
    "api = twitter_setup()\n",
    "\n",
    "# We create a tweet list as follows:\n",
    "tweets = api.user_timeline(screen_name=\"realDonaldTrump\", count=200)\n",
    "print(\"Number of tweets extracted: {}.\\n\".format(len(tweets)))\n",
    "\n",
    "# We print the most recent 5 tweets:\n",
    "print(\"5 recent tweets:\\n\")\n",
    "for tweet in tweets[:5]:\n",
    "    print(tweet.text)\n",
    "    print()"
   ]
  },
  {
   "cell_type": "code",
   "execution_count": 7,
   "metadata": {},
   "outputs": [
    {
     "name": "stdout",
     "output_type": "stream",
     "text": [
      "['__class__', '__delattr__', '__dict__', '__dir__', '__doc__', '__eq__', '__format__', '__ge__', '__getattribute__', '__getstate__', '__gt__', '__hash__', '__init__', '__init_subclass__', '__le__', '__lt__', '__module__', '__ne__', '__new__', '__reduce__', '__reduce_ex__', '__repr__', '__setattr__', '__sizeof__', '__str__', '__subclasshook__', '__weakref__', '_api', '_json', 'author', 'contributors', 'coordinates', 'created_at', 'destroy', 'entities', 'favorite', 'favorite_count', 'favorited', 'geo', 'id', 'id_str', 'in_reply_to_screen_name', 'in_reply_to_status_id', 'in_reply_to_status_id_str', 'in_reply_to_user_id', 'in_reply_to_user_id_str', 'is_quote_status', 'lang', 'parse', 'parse_list', 'place', 'retweet', 'retweet_count', 'retweeted', 'retweets', 'source', 'source_url', 'text', 'truncated', 'user']\n"
     ]
    }
   ],
   "source": [
    "# Internal methods of a single tweet object:\n",
    "print(dir(tweets[0]))"
   ]
  },
  {
   "cell_type": "code",
   "execution_count": 8,
   "metadata": {},
   "outputs": [
    {
     "name": "stdout",
     "output_type": "stream",
     "text": [
      "None\n",
      "These California fires are expanding very, very quickly (in some cases 80-100 acres a minute). If people don’t evac… https://t.co/5WUnd01wou\n"
     ]
    }
   ],
   "source": [
    "print(tweets[0].in_reply_to_user_id_str)\n",
    "print(tweets[0].text)"
   ]
  },
  {
   "cell_type": "code",
   "execution_count": 9,
   "metadata": {},
   "outputs": [
    {
     "name": "stdout",
     "output_type": "stream",
     "text": [
      "None\n"
     ]
    }
   ],
   "source": [
    "print(tweets[0].in_reply_to_screen_name)"
   ]
  },
  {
   "cell_type": "code",
   "execution_count": 10,
   "metadata": {},
   "outputs": [
    {
     "name": "stdout",
     "output_type": "stream",
     "text": [
      "Tweet : These California fires are expanding very, very quickly (in some cases 80-100 acres a minute). If people don’t evac… https://t.co/5WUnd01wou\n",
      "Replies : @realDonaldTrump https://t.co/vTfvuT7P7A\n",
      "Replies : @realDonaldTrump I live in Oroville on the lake, wish me luck.\n",
      "Replies : @realDonaldTrump https://t.co/RzRjo3mTUR\n",
      "Replies : @realDonaldTrump https://t.co/tuBmHnqaH4\n",
      "Replies : @realDonaldTrump Parkland shooting: “I really believe I’d run in there even if I didn’t have a weapon.”\n",
      "\n",
      "WWI memorial: Runs away from rain.\n",
      "Replies : @realDonaldTrump You are in charge of the federal government being the president so you are the boss. Your right... bad management.\n",
      "Replies : @realDonaldTrump Bipolar strikes again.\n",
      "Replies : @realDonaldTrump https://t.co/ZDUiEHAJtb\n",
      "Replies : @realDonaldTrump Not written by you - fake\n",
      "Replies : @realDonaldTrump Try 80-100 acres per HOUR, not MINUTE.🤦🏻‍♂️🤦🏻‍♂️\n",
      "Replies : @realDonaldTrump You should’ve played golf at mar-a-lago and saved millions of dollars of tax payer dollars, instea… https://t.co/Fgc96RvhPT\n",
      "Replies : @realDonaldTrump SAD but #karma #IranSanctions https://t.co/jE7ksvF1Pi\n",
      "Replies : @realDonaldTrump Nobody is buying your FAKE sympathy or caring. 🙄\n",
      "Replies : @realDonaldTrump YOUR FAULT\n",
      "Replies : @realDonaldTrump 1) You care? You are a disgrace! Quote “There is no reason for these massive, deadly and costly fo… https://t.co/RLMIPMhD05\n",
      "Replies : @realDonaldTrump https://t.co/ESwahEnY8D\n",
      "Replies : @realDonaldTrump Sound familiar? https://t.co/ZWr7eoD4Dp\n",
      "Replies : @realDonaldTrump Look at the circumstances in which choppers can fly. But my guess is that you will not make a trip… https://t.co/HzyWQSDZ3h\n",
      "Replies : @realDonaldTrump If only there was a Federal official worth listening to.....\n",
      "Replies : @realDonaldTrump That other tweet didn't work out so well for you, huh? Go figure. https://t.co/K9kNsYRahc\n",
      "Replies : @realDonaldTrump Someone should rate the top 10 stupidest things Trump has said as president.\n",
      "\n",
      "1. He indicated that… https://t.co/Zs5RVivYqL\n",
      "Replies : @realDonaldTrump That’s like the smartest thing I’ve heard you say since you’ve been president\n",
      "Replies : @realDonaldTrump Your son is going to jail and it’s YOUR fault. You. How does that make feel?\n",
      "Replies : @realDonaldTrump Maybe send troops to help t\n",
      "Stop the Fires and not these called invasion at the boarder.\n",
      "Replies : @realDonaldTrump Your political and legal problems are expanding very quickly.\n",
      "Replies : @realDonaldTrump Paid them right off FIX IT THEY SAID ! LIARS MADE MONEY WITH TRUMP DID NOT ACCOMPLISH OF NOT STOPP… https://t.co/s0w5w7ckeT\n",
      "Replies : @realDonaldTrump You need to be terminated!\n",
      "Replies : @realDonaldTrump More tweets like this please. This is a good tweet.\n",
      "Replies : @realDonaldTrump Maybe you should go there. We will give you a garden hose to fight the fire.\n",
      "Replies : @realDonaldTrump DUH AH\n",
      "Replies : @realDonaldTrump They could use some of that rain you are frightened to go out in hey.\n",
      "Replies : @realDonaldTrump https://t.co/OMwt6fqmXA\n",
      "Replies : @realDonaldTrump Earlier today you once again bullied and blamed the victims. This time it was Californians who are… https://t.co/ySVx8y24YP\n",
      "Replies : @realDonaldTrump So, who told you to act like you give a damn?\n",
      "You hate Californians and just threatened to take funding away!\n",
      "Replies : @realDonaldTrump the whole batch of dough&lt;Galatians5:9&gt; https://t.co/ko2Flhh0Pc\n",
      "Replies : @realDonaldTrump So you traveled to France to tweet on our dime, nice. 🙄\n",
      "Replies : @realDonaldTrump https://t.co/UroAgTDvwy\n",
      "Replies : @realDonaldTrump Finally a reasonably smart tweet.\n",
      "Replies : @realDonaldTrump I hang my head in shame everyday that you are a president\n",
      "Tweet : More than 4,000 are fighting the Camp and Woolsey Fires in California that have burned over 170,000 acres. Our hear… https://t.co/bHG71OSXsq\n",
      "Replies : @realDonaldTrump Too late. The damage was done this morning. Just stay in Paris—America has made it clear this week… https://t.co/JEc4fRY4Hf\n",
      "Replies : @realDonaldTrump This is the real donnie. https://t.co/enepmud6Py\n",
      "Replies : @realDonaldTrump Whoever wrote this, it's too late! The stupid &amp; callous @realDonaldTrump already voiced his opinio… https://t.co/RkDojDISyT\n",
      "Replies : @realDonaldTrump Enough of the Goofy prayers.  How about the role of Anthropogenic climate change - can your Scienc… https://t.co/OuW4d47H2S\n",
      "Replies : @realDonaldTrump Wait a minute. You just blamed them for the fires and threatened to pull funding and now I see thi… https://t.co/UgLBMaZ8JF\n",
      "Replies : @realDonaldTrump You DID NOT WRITE THIS DUDE. No way...\n",
      "Replies : @realDonaldTrump Your such a hypocrite!!\n",
      "Replies : @realDonaldTrump You just talked poorly about the situation earlier.  You victim blamed California over fire and death. Sad.\n",
      "Replies : @realDonaldTrump Now that’s a tweet worth reading, liking, retweet, and give positive reinforcement on.  Thank you Mr. President!\n",
      "Replies : @realDonaldTrump Who wrote this? Not Trump!!!\n",
      "Replies : @realDonaldTrump Thanks for turning the phone over to the grown ups!\n",
      "Replies : @realDonaldTrump Too little. Too late. This should have been your first tweet this morning. Your staff knew that, h… https://t.co/G00hbuw93e\n",
      "Replies : @realDonaldTrump Who wrote that for you…????? #lackssincerity\n",
      "Replies : @realDonaldTrump Maybe its Milania writing this so he looks good? Better off letting him dig his own grave. We know… https://t.co/jjhstf2tfs\n",
      "Replies : @realDonaldTrump Your staff has tried to get you to “spin” so you don’t look like an unfeeling partisan person who… https://t.co/EcTOpHkM4U\n",
      "Replies : @realDonaldTrump Bullshit\n",
      "Replies : @realDonaldTrump Its official....you are a World Class CLOWN....😂\n",
      "Replies : @realDonaldTrump Who wrote this? Theres no friggin way Trump wrote this. His heart is with no one other than himself.\n",
      "Replies : @realDonaldTrump @VP How nice of you to finally notice...\n",
      "Replies : @realDonaldTrump Who has your phone?\n",
      "Replies : @realDonaldTrump Sir you have MANY SUPPORTERS here in CA! Please help us! Don’t write CA off as lost cause. There a… https://t.co/g7SP8cpVWo\n",
      "Replies : @realDonaldTrump @55true4u Love and prayers of peace, comfort, and strength for those impacted.\n",
      "Replies : @realDonaldTrump Not written by you - fake\n",
      "Replies : @realDonaldTrump Send the National Guard and the military out to help. They're doing nothing at the border except w… https://t.co/U4MiFeI2Jo\n",
      "Replies : @realDonaldTrump Sir, do you remember when ISIS said to set fires in the USA? https://t.co/PL7h4r125k\n",
      "Replies : @realDonaldTrump Boy you sure changed your tune. You are beyond despicable!\n",
      "Replies : @realDonaldTrump You know nothing!\n",
      "Replies : @realDonaldTrump Too late, you had your chance and blew it!\n",
      "Replies : @realDonaldTrump I am part of the Woolsey Fire. Luckily our family &amp; home are fine but still without power and data… https://t.co/aVF9iRQMJp\n",
      "Replies : @realDonaldTrump Trump must have thought to himself, \" What would Obama do\"? Then he tweeted, almost 15 hours later… https://t.co/W3pkF6LLQR\n",
      "Replies : @realDonaldTrump Well done for everything you have done and do Mr President\n",
      "Replies : @realDonaldTrump Just stop. No one believes you. No one cares what you think today, and no one wants to hear your p… https://t.co/HX2l0r5mzv\n",
      "Replies : @realDonaldTrump It shows some compassion, so we know it didn't come from donnie the psychopath\n",
      "Replies : @realDonaldTrump https://t.co/S4ROlz1wcO\n",
      "Replies : @realDonaldTrump And what are you doing to help? Golfing again??? 🙄\n",
      "Replies : @realDonaldTrump https://t.co/T0JcDqYk4Y\n",
      "Replies : @realDonaldTrump And yet you condemned them. Once again a dramatic example of you total weakness as a leader, as a man, and as a human.\n",
      "Replies : @realDonaldTrump Too late.  We all read your 1st tweet.  Give us a break already.\n",
      "Replies : @realDonaldTrump How nice of you to finally acknowledge that\n",
      "Replies : @realDonaldTrump You soooooooo didn’t write this one.\n",
      "Replies : @realDonaldTrump Who is using your phone?\n",
      "Replies : @realDonaldTrump careful there, you'll lose your audience\n",
      "Replies : @realDonaldTrump So, you finally got around to saying something appropriate about this catastrophe.\n",
      "Replies : @realDonaldTrump https://t.co/NMos5Dcce7\n",
      "Replies : @realDonaldTrump CLIMATE CHANGE dummy\n",
      "Replies : @realDonaldTrump Back peddle. This should have been what you said first time.\n",
      "Replies : @realDonaldTrump You are a couple days too late 😞\n",
      "Replies : @realDonaldTrump Too late.\n",
      "Replies : @realDonaldTrump Nope! Too late to try and act concerned about the wildfires in California. You were just mad that… https://t.co/5pIwCXdrz5\n",
      "Replies : @realDonaldTrump You didn't write this. 🖕🏾🖕🏾🖕🏾🖕🏾 #RESIST #ImpeachTrump #Muellertime #Muellertime #BlueWave2018 #BlueWave2018\n",
      "Replies : @realDonaldTrump Wow that's a big change from what you wrote less than 24 hours ago... did someone knock you upside the head or what?\n",
      "Replies : @realDonaldTrump https://t.co/fKbSqQ73kd\n",
      "Replies : @realDonaldTrump Glad to see one of your flunkies got a hold of your phone and tweeted out a some what respectful tweet....\n",
      "Replies : @realDonaldTrump Any one of those fire fighters is more deserving of the Presidential Medal of Freedom than Mariam… https://t.co/4kXYrBXTe5\n",
      "Replies : @realDonaldTrump I wonder who write this tweet.  I’m sure it was not @realDonaldTrump\n",
      "Replies : @realDonaldTrump You are the ‘Biggest’ Jabroni of all time! Sad!#TrumpRussia #FlimFlam\n",
      "Replies : @realDonaldTrump https://t.co/6VF5OQvI6a\n",
      "Replies : @realDonaldTrump So you are watching tv#unfittobepresident\n",
      "Replies : @realDonaldTrump No way do I believe Trump typed this.\n",
      "Replies : @realDonaldTrump If Cali paid more state and city taxes they could afford to be liberal.\n",
      "Replies : @realDonaldTrump Now, this is the response he should've sent instead of his heartless threatening tweet. Someone ob… https://t.co/5R3gTDmQyF\n",
      "Replies : @realDonaldTrump https://t.co/INo61SIlOK\n",
      "Replies : @realDonaldTrump Zzzzzzzzzzzzz.  \n",
      "First impressions, Clownenheimer.\n",
      "You already showed your hand.  And it sucks.\n",
      "Replies : @realDonaldTrump @junogsp7 Best President EVER !\n",
      "Replies : @realDonaldTrump How's that Parisian hotel room we're paying for? \n",
      "\n",
      "You blamed California for being on fire.\n",
      "You sk… https://t.co/QFlK1yPsme\n",
      "Replies : @realDonaldTrump Nope. Too late. We all saw your earlier Tweet.\n",
      "Replies : @realDonaldTrump @VP https://t.co/q0lydWdJ81 speaking of......\n",
      "Replies : @realDonaldTrump I think the President is sleeping and a staff member stole his phone and tweeted this.\n",
      "Replies : @realDonaldTrump No fed funds for you!\n",
      "Replies : @realDonaldTrump Send the troops over there instead...\n",
      "Replies : @realDonaldTrump Someone should rate the top 10 stupidest things Trump has said as president.\n",
      "\n",
      "1. He indicated that… https://t.co/Nq3wbHPkcw\n",
      "Replies : @realDonaldTrump As usual, your numbers are wrong. https://t.co/reNdSVzetK\n",
      "Replies : @realDonaldTrump Someone stole your phone and tweeted for you.\n",
      "Replies : @realDonaldTrump 🙏🙏🙏\n",
      "Replies : @realDonaldTrump nope. didn’t write that. hello 👋🏾 whoever you are! why don’t you keep the damn phone!\n",
      "Replies : @realDonaldTrump Who grabbed POTUS ‘ phone?\n",
      "Replies : @realDonaldTrump Ivanka, is that you??\n",
      "Replies : @realDonaldTrump No way in hell that you tweeted this.  Firstly, you trashed the news about it with threats.  Now y… https://t.co/TILulBPnH0\n",
      "Replies : @realDonaldTrump Too late.  We ALL read your earlier tweet.  The one actually tweeted by you.\n",
      "Replies : @realDonaldTrump Such a change of heart!  Who spoke to you?  Adelson? Bannon? Whitaker?\n",
      "Replies : @realDonaldTrump This coming from trump after he blames fire 🔥 on bad management. Wow 😲 guess someone told him he s… https://t.co/Agz9GrMwCv\n",
      "Replies : @realDonaldTrump Nice try, @DanScavino. 🖕\n",
      "Replies : @realDonaldTrump But earlier you were blaming CA and threatening to cut off aid.\n",
      "Replies : @realDonaldTrump Flipping or flopping https://t.co/rRKDdvv6LU\n",
      "Replies : @realDonaldTrump Thinking of others! Empathetic words? Not making it about himself? Not blaming anything or anyone?… https://t.co/982YPGkW3k\n",
      "Replies : @realDonaldTrump @marisachurchill  any thoughts you'd like to say  about this abrupt turn around???🙄🙄🙄😏\n",
      "Replies : @realDonaldTrump you didn't write this.\n",
      "Replies : @realDonaldTrump He did not tweet this due to there being no words incorrectly capitalized.\n"
     ]
    },
    {
     "ename": "TweepError",
     "evalue": "Twitter error response: status code = 429",
     "output_type": "error",
     "traceback": [
      "\u001b[1;31m---------------------------------------------------------------------------\u001b[0m",
      "\u001b[1;31mTweepError\u001b[0m                                Traceback (most recent call last)",
      "\u001b[1;32m<ipython-input-10-bef6b2c74420>\u001b[0m in \u001b[0;36m<module>\u001b[1;34m()\u001b[0m\n\u001b[0;32m      4\u001b[0m \u001b[0mnon_bmp_map\u001b[0m \u001b[1;33m=\u001b[0m \u001b[0mdict\u001b[0m\u001b[1;33m.\u001b[0m\u001b[0mfromkeys\u001b[0m\u001b[1;33m(\u001b[0m\u001b[0mrange\u001b[0m\u001b[1;33m(\u001b[0m\u001b[1;36m0x10000\u001b[0m\u001b[1;33m,\u001b[0m \u001b[0msys\u001b[0m\u001b[1;33m.\u001b[0m\u001b[0mmaxunicode\u001b[0m \u001b[1;33m+\u001b[0m \u001b[1;36m1\u001b[0m\u001b[1;33m)\u001b[0m\u001b[1;33m,\u001b[0m \u001b[1;36m0xfffd\u001b[0m\u001b[1;33m)\u001b[0m\u001b[1;33m\u001b[0m\u001b[0m\n\u001b[0;32m      5\u001b[0m \u001b[1;32mfor\u001b[0m \u001b[0mfull_tweets\u001b[0m \u001b[1;32min\u001b[0m \u001b[0mtweepy\u001b[0m\u001b[1;33m.\u001b[0m\u001b[0mCursor\u001b[0m\u001b[1;33m(\u001b[0m\u001b[0mapi\u001b[0m\u001b[1;33m.\u001b[0m\u001b[0muser_timeline\u001b[0m\u001b[1;33m,\u001b[0m\u001b[0mscreen_name\u001b[0m\u001b[1;33m=\u001b[0m\u001b[0mname\u001b[0m\u001b[1;33m,\u001b[0m\u001b[0mtimeout\u001b[0m\u001b[1;33m=\u001b[0m\u001b[1;36m999999\u001b[0m\u001b[1;33m)\u001b[0m\u001b[1;33m.\u001b[0m\u001b[0mitems\u001b[0m\u001b[1;33m(\u001b[0m\u001b[1;36m10\u001b[0m\u001b[1;33m)\u001b[0m\u001b[1;33m:\u001b[0m\u001b[1;33m\u001b[0m\u001b[0m\n\u001b[1;32m----> 6\u001b[1;33m    \u001b[1;32mfor\u001b[0m \u001b[0mtweet\u001b[0m \u001b[1;32min\u001b[0m \u001b[0mtweepy\u001b[0m\u001b[1;33m.\u001b[0m\u001b[0mCursor\u001b[0m\u001b[1;33m(\u001b[0m\u001b[0mapi\u001b[0m\u001b[1;33m.\u001b[0m\u001b[0msearch\u001b[0m\u001b[1;33m,\u001b[0m\u001b[0mq\u001b[0m\u001b[1;33m=\u001b[0m\u001b[1;34m'to:'\u001b[0m\u001b[1;33m+\u001b[0m\u001b[0mname\u001b[0m\u001b[1;33m,\u001b[0m\u001b[0mresult_type\u001b[0m\u001b[1;33m=\u001b[0m\u001b[1;34m'recent'\u001b[0m\u001b[1;33m,\u001b[0m\u001b[0mtimeout\u001b[0m\u001b[1;33m=\u001b[0m\u001b[1;36m999999\u001b[0m\u001b[1;33m)\u001b[0m\u001b[1;33m.\u001b[0m\u001b[0mitems\u001b[0m\u001b[1;33m(\u001b[0m\u001b[1;36m1000\u001b[0m\u001b[1;33m)\u001b[0m\u001b[1;33m:\u001b[0m\u001b[1;33m\u001b[0m\u001b[0m\n\u001b[0m\u001b[0;32m      7\u001b[0m        \u001b[1;32mif\u001b[0m \u001b[0mhasattr\u001b[0m\u001b[1;33m(\u001b[0m\u001b[0mtweet\u001b[0m\u001b[1;33m,\u001b[0m \u001b[1;34m'in_reply_to_status_id_str'\u001b[0m\u001b[1;33m)\u001b[0m\u001b[1;33m:\u001b[0m\u001b[1;33m\u001b[0m\u001b[0m\n\u001b[0;32m      8\u001b[0m            \u001b[1;32mif\u001b[0m \u001b[1;33m(\u001b[0m\u001b[0mtweet\u001b[0m\u001b[1;33m.\u001b[0m\u001b[0min_reply_to_status_id_str\u001b[0m\u001b[1;33m==\u001b[0m\u001b[0mfull_tweets\u001b[0m\u001b[1;33m.\u001b[0m\u001b[0mid_str\u001b[0m\u001b[1;33m)\u001b[0m\u001b[1;33m:\u001b[0m\u001b[1;33m\u001b[0m\u001b[0m\n",
      "\u001b[1;32m~\\Anaconda3\\lib\\site-packages\\tweepy\\cursor.py\u001b[0m in \u001b[0;36m__next__\u001b[1;34m(self)\u001b[0m\n\u001b[0;32m     47\u001b[0m \u001b[1;33m\u001b[0m\u001b[0m\n\u001b[0;32m     48\u001b[0m     \u001b[1;32mdef\u001b[0m \u001b[0m__next__\u001b[0m\u001b[1;33m(\u001b[0m\u001b[0mself\u001b[0m\u001b[1;33m)\u001b[0m\u001b[1;33m:\u001b[0m\u001b[1;33m\u001b[0m\u001b[0m\n\u001b[1;32m---> 49\u001b[1;33m         \u001b[1;32mreturn\u001b[0m \u001b[0mself\u001b[0m\u001b[1;33m.\u001b[0m\u001b[0mnext\u001b[0m\u001b[1;33m(\u001b[0m\u001b[1;33m)\u001b[0m\u001b[1;33m\u001b[0m\u001b[0m\n\u001b[0m\u001b[0;32m     50\u001b[0m \u001b[1;33m\u001b[0m\u001b[0m\n\u001b[0;32m     51\u001b[0m     \u001b[1;32mdef\u001b[0m \u001b[0mnext\u001b[0m\u001b[1;33m(\u001b[0m\u001b[0mself\u001b[0m\u001b[1;33m)\u001b[0m\u001b[1;33m:\u001b[0m\u001b[1;33m\u001b[0m\u001b[0m\n",
      "\u001b[1;32m~\\Anaconda3\\lib\\site-packages\\tweepy\\cursor.py\u001b[0m in \u001b[0;36mnext\u001b[1;34m(self)\u001b[0m\n\u001b[0;32m    195\u001b[0m         \u001b[1;32mif\u001b[0m \u001b[0mself\u001b[0m\u001b[1;33m.\u001b[0m\u001b[0mcurrent_page\u001b[0m \u001b[1;32mis\u001b[0m \u001b[1;32mNone\u001b[0m \u001b[1;32mor\u001b[0m \u001b[0mself\u001b[0m\u001b[1;33m.\u001b[0m\u001b[0mpage_index\u001b[0m \u001b[1;33m==\u001b[0m \u001b[0mlen\u001b[0m\u001b[1;33m(\u001b[0m\u001b[0mself\u001b[0m\u001b[1;33m.\u001b[0m\u001b[0mcurrent_page\u001b[0m\u001b[1;33m)\u001b[0m \u001b[1;33m-\u001b[0m \u001b[1;36m1\u001b[0m\u001b[1;33m:\u001b[0m\u001b[1;33m\u001b[0m\u001b[0m\n\u001b[0;32m    196\u001b[0m             \u001b[1;31m# Reached end of current page, get the next page...\u001b[0m\u001b[1;33m\u001b[0m\u001b[1;33m\u001b[0m\u001b[0m\n\u001b[1;32m--> 197\u001b[1;33m             \u001b[0mself\u001b[0m\u001b[1;33m.\u001b[0m\u001b[0mcurrent_page\u001b[0m \u001b[1;33m=\u001b[0m \u001b[0mself\u001b[0m\u001b[1;33m.\u001b[0m\u001b[0mpage_iterator\u001b[0m\u001b[1;33m.\u001b[0m\u001b[0mnext\u001b[0m\u001b[1;33m(\u001b[0m\u001b[1;33m)\u001b[0m\u001b[1;33m\u001b[0m\u001b[0m\n\u001b[0m\u001b[0;32m    198\u001b[0m             \u001b[0mself\u001b[0m\u001b[1;33m.\u001b[0m\u001b[0mpage_index\u001b[0m \u001b[1;33m=\u001b[0m \u001b[1;33m-\u001b[0m\u001b[1;36m1\u001b[0m\u001b[1;33m\u001b[0m\u001b[0m\n\u001b[0;32m    199\u001b[0m         \u001b[0mself\u001b[0m\u001b[1;33m.\u001b[0m\u001b[0mpage_index\u001b[0m \u001b[1;33m+=\u001b[0m \u001b[1;36m1\u001b[0m\u001b[1;33m\u001b[0m\u001b[0m\n",
      "\u001b[1;32m~\\Anaconda3\\lib\\site-packages\\tweepy\\cursor.py\u001b[0m in \u001b[0;36mnext\u001b[1;34m(self)\u001b[0m\n\u001b[0;32m    106\u001b[0m \u001b[1;33m\u001b[0m\u001b[0m\n\u001b[0;32m    107\u001b[0m         \u001b[1;32mif\u001b[0m \u001b[0mself\u001b[0m\u001b[1;33m.\u001b[0m\u001b[0mindex\u001b[0m \u001b[1;33m>=\u001b[0m \u001b[0mlen\u001b[0m\u001b[1;33m(\u001b[0m\u001b[0mself\u001b[0m\u001b[1;33m.\u001b[0m\u001b[0mresults\u001b[0m\u001b[1;33m)\u001b[0m \u001b[1;33m-\u001b[0m \u001b[1;36m1\u001b[0m\u001b[1;33m:\u001b[0m\u001b[1;33m\u001b[0m\u001b[0m\n\u001b[1;32m--> 108\u001b[1;33m             \u001b[0mdata\u001b[0m \u001b[1;33m=\u001b[0m \u001b[0mself\u001b[0m\u001b[1;33m.\u001b[0m\u001b[0mmethod\u001b[0m\u001b[1;33m(\u001b[0m\u001b[0mmax_id\u001b[0m\u001b[1;33m=\u001b[0m\u001b[0mself\u001b[0m\u001b[1;33m.\u001b[0m\u001b[0mmax_id\u001b[0m\u001b[1;33m,\u001b[0m \u001b[0mparser\u001b[0m\u001b[1;33m=\u001b[0m\u001b[0mRawParser\u001b[0m\u001b[1;33m(\u001b[0m\u001b[1;33m)\u001b[0m\u001b[1;33m,\u001b[0m \u001b[1;33m*\u001b[0m\u001b[0mself\u001b[0m\u001b[1;33m.\u001b[0m\u001b[0margs\u001b[0m\u001b[1;33m,\u001b[0m \u001b[1;33m**\u001b[0m\u001b[0mself\u001b[0m\u001b[1;33m.\u001b[0m\u001b[0mkargs\u001b[0m\u001b[1;33m)\u001b[0m\u001b[1;33m\u001b[0m\u001b[0m\n\u001b[0m\u001b[0;32m    109\u001b[0m \u001b[1;33m\u001b[0m\u001b[0m\n\u001b[0;32m    110\u001b[0m             \u001b[1;32mif\u001b[0m \u001b[0mhasattr\u001b[0m\u001b[1;33m(\u001b[0m\u001b[0mself\u001b[0m\u001b[1;33m.\u001b[0m\u001b[0mmethod\u001b[0m\u001b[1;33m,\u001b[0m \u001b[1;34m'__self__'\u001b[0m\u001b[1;33m)\u001b[0m\u001b[1;33m:\u001b[0m\u001b[1;33m\u001b[0m\u001b[0m\n",
      "\u001b[1;32m~\\Anaconda3\\lib\\site-packages\\tweepy\\binder.py\u001b[0m in \u001b[0;36m_call\u001b[1;34m(*args, **kwargs)\u001b[0m\n\u001b[0;32m    248\u001b[0m             \u001b[1;32mreturn\u001b[0m \u001b[0mmethod\u001b[0m\u001b[1;33m\u001b[0m\u001b[0m\n\u001b[0;32m    249\u001b[0m         \u001b[1;32melse\u001b[0m\u001b[1;33m:\u001b[0m\u001b[1;33m\u001b[0m\u001b[0m\n\u001b[1;32m--> 250\u001b[1;33m             \u001b[1;32mreturn\u001b[0m \u001b[0mmethod\u001b[0m\u001b[1;33m.\u001b[0m\u001b[0mexecute\u001b[0m\u001b[1;33m(\u001b[0m\u001b[1;33m)\u001b[0m\u001b[1;33m\u001b[0m\u001b[0m\n\u001b[0m\u001b[0;32m    251\u001b[0m \u001b[1;33m\u001b[0m\u001b[0m\n\u001b[0;32m    252\u001b[0m     \u001b[1;31m# Set pagination mode\u001b[0m\u001b[1;33m\u001b[0m\u001b[1;33m\u001b[0m\u001b[0m\n",
      "\u001b[1;32m~\\Anaconda3\\lib\\site-packages\\tweepy\\binder.py\u001b[0m in \u001b[0;36mexecute\u001b[1;34m(self)\u001b[0m\n\u001b[0;32m    232\u001b[0m                     \u001b[1;32mraise\u001b[0m \u001b[0mRateLimitError\u001b[0m\u001b[1;33m(\u001b[0m\u001b[0merror_msg\u001b[0m\u001b[1;33m,\u001b[0m \u001b[0mresp\u001b[0m\u001b[1;33m)\u001b[0m\u001b[1;33m\u001b[0m\u001b[0m\n\u001b[0;32m    233\u001b[0m                 \u001b[1;32melse\u001b[0m\u001b[1;33m:\u001b[0m\u001b[1;33m\u001b[0m\u001b[0m\n\u001b[1;32m--> 234\u001b[1;33m                     \u001b[1;32mraise\u001b[0m \u001b[0mTweepError\u001b[0m\u001b[1;33m(\u001b[0m\u001b[0merror_msg\u001b[0m\u001b[1;33m,\u001b[0m \u001b[0mresp\u001b[0m\u001b[1;33m,\u001b[0m \u001b[0mapi_code\u001b[0m\u001b[1;33m=\u001b[0m\u001b[0mapi_error_code\u001b[0m\u001b[1;33m)\u001b[0m\u001b[1;33m\u001b[0m\u001b[0m\n\u001b[0m\u001b[0;32m    235\u001b[0m \u001b[1;33m\u001b[0m\u001b[0m\n\u001b[0;32m    236\u001b[0m             \u001b[1;31m# Parse the response payload\u001b[0m\u001b[1;33m\u001b[0m\u001b[1;33m\u001b[0m\u001b[0m\n",
      "\u001b[1;31mTweepError\u001b[0m: Twitter error response: status code = 429"
     ]
    }
   ],
   "source": [
    " import sys\n",
    "replies=[] \n",
    "name=\"realDonaldTrump\"\n",
    "non_bmp_map = dict.fromkeys(range(0x10000, sys.maxunicode + 1), 0xfffd)  \n",
    "for full_tweets in tweepy.Cursor(api.user_timeline,screen_name=name,timeout=999999).items(10):\n",
    "    for tweet in tweepy.Cursor(api.search,q='to:'+name,result_type='recent',timeout=999999).items(1000):\n",
    "        if hasattr(tweet, 'in_reply_to_status_id_str'):\n",
    "            if (tweet.in_reply_to_status_id_str==full_tweets.id_str):\n",
    "                replies.append(tweet.text)\n",
    "    print(\"Tweet :\",full_tweets.text.translate(non_bmp_map))\n",
    "    for elements in replies:\n",
    "        print(\"Replies :\",elements)\n",
    "    replies.clear()"
   ]
  },
  {
   "cell_type": "code",
   "execution_count": null,
   "metadata": {},
   "outputs": [],
   "source": []
  }
 ],
 "metadata": {
  "kernelspec": {
   "display_name": "Python 3",
   "language": "python",
   "name": "python3"
  },
  "language_info": {
   "codemirror_mode": {
    "name": "ipython",
    "version": 3
   },
   "file_extension": ".py",
   "mimetype": "text/x-python",
   "name": "python",
   "nbconvert_exporter": "python",
   "pygments_lexer": "ipython3",
   "version": "3.6.5"
  }
 },
 "nbformat": 4,
 "nbformat_minor": 2
}
